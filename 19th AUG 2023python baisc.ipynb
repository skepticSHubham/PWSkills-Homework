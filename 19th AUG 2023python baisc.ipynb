{
 "cells": [
  {
   "cell_type": "code",
   "execution_count": 12,
   "id": "52581ff2-360a-4d35-8a17-6dcddd3ef69d",
   "metadata": {},
   "outputs": [],
   "source": [
    "x = 10"
   ]
  },
  {
   "cell_type": "code",
   "execution_count": 13,
   "id": "d71111de-44e4-4a5b-8bfc-e4da7933828a",
   "metadata": {},
   "outputs": [],
   "source": [
    "y = 15"
   ]
  },
  {
   "cell_type": "code",
   "execution_count": 14,
   "id": "95848b5f-2e09-42f2-92fd-ae81bad180c8",
   "metadata": {},
   "outputs": [],
   "source": [
    "x,y = y,x"
   ]
  },
  {
   "cell_type": "code",
   "execution_count": 15,
   "id": "11721235-b41c-47d3-a6a8-ebb576fa2657",
   "metadata": {},
   "outputs": [
    {
     "data": {
      "text/plain": [
       "15"
      ]
     },
     "execution_count": 15,
     "metadata": {},
     "output_type": "execute_result"
    }
   ],
   "source": [
    "x"
   ]
  },
  {
   "cell_type": "code",
   "execution_count": 16,
   "id": "737899d4-6670-4f1d-8694-128cb3342782",
   "metadata": {},
   "outputs": [
    {
     "data": {
      "text/plain": [
       "10"
      ]
     },
     "execution_count": 16,
     "metadata": {},
     "output_type": "execute_result"
    }
   ],
   "source": [
    "y"
   ]
  },
  {
   "cell_type": "code",
   "execution_count": 17,
   "id": "558c6a5f-9dd3-4b76-a861-3cbfedda5c76",
   "metadata": {},
   "outputs": [],
   "source": [
    "area = length*width"
   ]
  },
  {
   "cell_type": "code",
   "execution_count": 34,
   "id": "e8c23625-8326-44ae-8b9b-0267522eb161",
   "metadata": {},
   "outputs": [
    {
     "name": "stdin",
     "output_type": "stream",
     "text": [
      "18:  18\n"
     ]
    }
   ],
   "source": [
    "length = int(input(\"18: \"))"
   ]
  },
  {
   "cell_type": "code",
   "execution_count": 35,
   "id": "5b055a8d-03c5-4e94-b1ca-4ecb76dd603c",
   "metadata": {},
   "outputs": [
    {
     "data": {
      "text/plain": [
       "18"
      ]
     },
     "execution_count": 35,
     "metadata": {},
     "output_type": "execute_result"
    }
   ],
   "source": [
    "length"
   ]
  },
  {
   "cell_type": "code",
   "execution_count": 36,
   "id": "1a3e4a14-d8bd-4878-918f-1e413c0b4d30",
   "metadata": {},
   "outputs": [
    {
     "name": "stdin",
     "output_type": "stream",
     "text": [
      "22: 22\n"
     ]
    }
   ],
   "source": [
    "width = int(input(\"22:\"))"
   ]
  },
  {
   "cell_type": "code",
   "execution_count": 37,
   "id": "16972ef1-3a5e-4cfc-ab91-77f42fba496e",
   "metadata": {},
   "outputs": [
    {
     "data": {
      "text/plain": [
       "22"
      ]
     },
     "execution_count": 37,
     "metadata": {},
     "output_type": "execute_result"
    }
   ],
   "source": [
    "width"
   ]
  },
  {
   "cell_type": "code",
   "execution_count": 40,
   "id": "f98c0746-324b-4a58-87c6-f6fec8ba45b4",
   "metadata": {},
   "outputs": [],
   "source": [
    "area = length * width"
   ]
  },
  {
   "cell_type": "code",
   "execution_count": 41,
   "id": "9990a4fc-8aa2-4186-9f6e-0b8db777094e",
   "metadata": {},
   "outputs": [
    {
     "data": {
      "text/plain": [
       "396"
      ]
     },
     "execution_count": 41,
     "metadata": {},
     "output_type": "execute_result"
    }
   ],
   "source": [
    "area"
   ]
  },
  {
   "cell_type": "code",
   "execution_count": 42,
   "id": "b0334717-1991-49f9-bd88-c2a5dd9b0dcd",
   "metadata": {},
   "outputs": [
    {
     "name": "stdout",
     "output_type": "stream",
     "text": [
      "The area of the rectangle with length 18 and width 22 is 396.\n"
     ]
    }
   ],
   "source": [
    "print(f\"The area of the rectangle with length {length} and width {width} is {area}.\")"
   ]
  },
  {
   "cell_type": "code",
   "execution_count": 46,
   "id": "f8dc9894-2624-4a64-8ffc-e8b42e39c120",
   "metadata": {},
   "outputs": [
    {
     "name": "stdin",
     "output_type": "stream",
     "text": [
      "52: 52\n"
     ]
    }
   ],
   "source": [
    "celsius = int(input(\"52:\"))"
   ]
  },
  {
   "cell_type": "code",
   "execution_count": 49,
   "id": "e775ffd4-60e7-40fc-8b63-c21cb20146cc",
   "metadata": {},
   "outputs": [],
   "source": [
    "fahrenheit = (1.8*celsius)+32"
   ]
  },
  {
   "cell_type": "code",
   "execution_count": 50,
   "id": "510c45db-c67b-40ff-9512-406dac850e95",
   "metadata": {},
   "outputs": [
    {
     "data": {
      "text/plain": [
       "125.60000000000001"
      ]
     },
     "execution_count": 50,
     "metadata": {},
     "output_type": "execute_result"
    }
   ],
   "source": [
    "fahrenheit"
   ]
  },
  {
   "cell_type": "code",
   "execution_count": 51,
   "id": "65c93dc4-a93a-4c45-bbab-3255c37cf17e",
   "metadata": {},
   "outputs": [
    {
     "name": "stdout",
     "output_type": "stream",
     "text": [
      "52 is equal to 125.60000000000001 and viceversa.\n"
     ]
    }
   ],
   "source": [
    "print(f\"{celsius} is equal to {fahrenheit} and viceversa.\")"
   ]
  },
  {
   "cell_type": "code",
   "execution_count": 57,
   "id": "62fec531-3e02-45a2-a144-759dfd8b1843",
   "metadata": {},
   "outputs": [
    {
     "name": "stdin",
     "output_type": "stream",
     "text": [
      "b: 876876876\n"
     ]
    }
   ],
   "source": [
    "input_string = input(\"b:\")"
   ]
  },
  {
   "cell_type": "code",
   "execution_count": 58,
   "id": "267d31a5-d912-405f-afaa-5846000f309a",
   "metadata": {},
   "outputs": [],
   "source": [
    "string_length = len(input_string)"
   ]
  },
  {
   "cell_type": "code",
   "execution_count": 59,
   "id": "e7790b67-c0c4-4755-84b5-0589c5c77574",
   "metadata": {},
   "outputs": [
    {
     "name": "stdout",
     "output_type": "stream",
     "text": [
      "The length of the string is 9 characters.\n"
     ]
    }
   ],
   "source": [
    "print(f\"The length of the string is {string_length} characters.\")"
   ]
  },
  {
   "cell_type": "code",
   "execution_count": null,
   "id": "d9663cad-a927-4f8d-946e-e7c8f1ca1154",
   "metadata": {},
   "outputs": [],
   "source": []
  }
 ],
 "metadata": {
  "kernelspec": {
   "display_name": "Python 3 (ipykernel)",
   "language": "python",
   "name": "python3"
  },
  "language_info": {
   "codemirror_mode": {
    "name": "ipython",
    "version": 3
   },
   "file_extension": ".py",
   "mimetype": "text/x-python",
   "name": "python",
   "nbconvert_exporter": "python",
   "pygments_lexer": "ipython3",
   "version": "3.10.8"
  }
 },
 "nbformat": 4,
 "nbformat_minor": 5
}
